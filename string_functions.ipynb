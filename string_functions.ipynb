{
 "cells": [
  {
   "cell_type": "code",
   "execution_count": null,
   "metadata": {},
   "outputs": [],
   "source": [
    "#string functions\n",
    "str=\"vinayaki\"\n",
    "\n",
    "#Returns a centered string\n",
    "print(str.center(20))\n",
    "\n",
    "#To Upper\n",
    "print(\"To Upper:\",str.upper())\n",
    "\n",
    "#To Lower\n",
    "print(\"To Lower:\",str.lower())\n",
    "\n",
    "#Converts string into lower case\n",
    "print(\"To Lower using casefold:\",str.casefold())\n",
    "\n",
    "#Convert first letter to upper case\n",
    "print(\"Convert first letter to upper case:\",str.capitalize())\n",
    "      \n",
    "#Returns the number of times a specified value occurs in a string\n",
    "print(\"Number of times 'a' occur in: \",str.count('a'))\n",
    "\n",
    "#Returns true if the string ends with the specified value\n",
    "print(\"is string ends with i: \",str.endswith(\"i\"))\n",
    "\n",
    "#Returns true if the string starts with the specified value\n",
    "print(\"is string ends with v: \",str.startswith(\"v\"))\n",
    "\n",
    "#Searches the string for a specified value and returns the position of where it was found\n",
    "print(\"find 'n'\",str.find(\"n\"))\n",
    "\n",
    "#Searches the string for a specified value and returns the position of where it was found\n",
    "print(\"Index of 'n'\",str.index(\"n\"))\n",
    "\n",
    "#Returns True if all characters in the string are in the alphabet\n",
    "print(\"ia alpha:\",str.isalpha())\n",
    "\n",
    "#Returns True if all characters in the string are digits\n",
    "print(\"is digit:\",str.isdigit())\n",
    "\n",
    "#Returns True if the string is an identifier\n",
    "print(\"is identifier:\",str.isidentifier())\n",
    "\n",
    "#Returns True if all characters in the string are lower case\n",
    "print(\"is lower:\",str.islower())\n",
    "\n",
    "#Returns a string where a specified value is replaced with a specified value\n",
    "str2=str.replace(\"vinayaki\",\"Vin\")\n",
    "print(str2)\n",
    "\n",
    "#Splits the string at the specified separator, and returns a list\n",
    "print(str.split())\n",
    "\n"
   ]
  }
 ],
 "metadata": {
  "kernelspec": {
   "display_name": "Python 3",
   "language": "python",
   "name": "python3"
  },
  "language_info": {
   "codemirror_mode": {
    "name": "ipython",
    "version": 3
   },
   "file_extension": ".py",
   "mimetype": "text/x-python",
   "name": "python",
   "nbconvert_exporter": "python",
   "pygments_lexer": "ipython3",
   "version": "3.6.8"
  }
 },
 "nbformat": 4,
 "nbformat_minor": 4
}
